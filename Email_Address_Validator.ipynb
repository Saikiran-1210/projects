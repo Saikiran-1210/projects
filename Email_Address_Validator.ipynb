{
  "nbformat": 4,
  "nbformat_minor": 0,
  "metadata": {
    "colab": {
      "provenance": []
    },
    "kernelspec": {
      "name": "python3",
      "display_name": "Python 3"
    },
    "language_info": {
      "name": "python"
    }
  },
  "cells": [
    {
      "cell_type": "code",
      "execution_count": 1,
      "metadata": {
        "colab": {
          "base_uri": "https://localhost:8080/"
        },
        "id": "8Ldhxec1c4tf",
        "outputId": "8eca4a8b-25bb-4753-8a59-64f50e64ff40"
      },
      "outputs": [
        {
          "output_type": "execute_result",
          "data": {
            "text/plain": [
              "{'ethna@gmail.com': True,\n",
              " 'susmi@gmail.com': True,\n",
              " 'susmi_1@gmail.com': True,\n",
              " '.ethna@gmail.com': False,\n",
              " '@susmi@gmail.com': False,\n",
              " 'ethna@gmail,com': False,\n",
              " 'ethna@gmail.con': True,\n",
              " 'email@example.com': True,\n",
              " 'firstname.lastname@example.com': True,\n",
              " 'email@subdomain.example.com': True,\n",
              " 'firstname+lastname@example.com': True,\n",
              " 'email@123.123.123.123': True,\n",
              " 'email@[123.123.123.123]': False,\n",
              " 'ethna@123.123.123': True,\n",
              " 'susmi@[123.123.123.123]': False,\n",
              " 'ethna@192.27.230.255': True,\n",
              " 'ethna@193.23.0.256': True,\n",
              " 'email@example-one.com': True,\n",
              " 'plainaddress': False,\n",
              " '#@%^%#$@#$@#.com': False,\n",
              " '@example.com': False,\n",
              " 'Joe Smith <email@example.com>': False,\n",
              " 'email.example.com': False,\n",
              " 'email@example@example.com': False,\n",
              " '.email@example.com': False,\n",
              " 'email.@example.com': False,\n",
              " 'email..email@example.com': False,\n",
              " 'email@example': False,\n",
              " 'email@-example.com': False,\n",
              " 'email@example.web': True,\n",
              " 'email@111.222.333.44444': True,\n",
              " 'email@example..com': False,\n",
              " 'mailto:email@example..com': False}"
            ]
          },
          "metadata": {},
          "execution_count": 1
        }
      ],
      "source": [
        "import re\n",
        "\n",
        "def ValidateEmail(TestString):\n",
        "    \"\"\"\n",
        "    Validates if the input string is a valid email address based on specified rules.\n",
        "\n",
        "    Parameters:\n",
        "    TestString (str): The string to be validated as an email address.\n",
        "\n",
        "    Returns:\n",
        "    bool: True if the input is a valid email address, False otherwise.\n",
        "    \"\"\"\n",
        "    # Define the regex pattern for validating email\n",
        "    email_pattern = re.compile(\n",
        "        r\"^(?=.{1,64}@.{1,255}$)\" # Ensure the total length and local part length\n",
        "        r\"[A-Za-z0-9!#$%&'*+/=?^_`{|}~]+(?:\\.[A-Za-z0-9!#$%&'*+/=?^_`{|}~]+)*\" # Local part\n",
        "        r\"@(?=[A-Za-z0-9][A-Za-z0-9-]{0,253}[A-Za-z0-9](?:\\.[A-Za-z0-9-]{1,63})*$)\" # Domain part\n",
        "        r\"(?:[A-Za-z0-9](?:[A-Za-z0-9-]{0,61}[A-Za-z0-9])?\\.)+\" # Domain labels\n",
        "        r\"(?!-)[A-Z0-9-]{2,}$\", re.IGNORECASE) # Top level domain\n",
        "\n",
        "    ipv4_pattern = re.compile(\n",
        "        r\"^\\[?(25[0-5]|2[0-4][0-9]|[01]?[0-9][0-9]?)\\.(25[0-5]|2[0-4][0-9]|[01]?[0-9][0-9]?)\\.\"\n",
        "        r\"(25[0-5]|2[0-4][0-9]|[01]?[0-9][0-9]?)\\.(25[0-5]|2[0-4][0-9]|[01]?[0-9][0-9]?)\\]?$\")\n",
        "\n",
        "    if email_pattern.match(TestString) or ipv4_pattern.match(TestString):\n",
        "        return True\n",
        "    else:\n",
        "        return False\n",
        "\n",
        "# Test the function with example inputs\n",
        "test_emails = [\n",
        "    \"ethna@gmail.com\", \"susmi@gmail.com\", \"susmi_1@gmail.com\", \".ethna@gmail.com\",\n",
        "    \"@susmi@gmail.com\", \"ethna@gmail,com\", \"ethna@gmail.con\", \"email@example.com\",\n",
        "    \"firstname.lastname@example.com\", \"email@subdomain.example.com\", \"firstname+lastname@example.com\",\n",
        "    \"email@123.123.123.123\", \"email@[123.123.123.123]\", \"ethna@123.123.123\", \"susmi@[123.123.123.123]\",\n",
        "    \"ethna@192.27.230.255\", \"ethna@193.23.0.256\", \"email@example-one.com\", \"plainaddress\",\n",
        "    \"#@%^%#$@#$@#.com\", \"@example.com\", \"Joe Smith <email@example.com>\", \"email.example.com\",\n",
        "    \"email@example@example.com\", \".email@example.com\", \"email.@example.com\", \"email..email@example.com\",\n",
        "    \"email@example\", \"email@-example.com\", \"email@example.web\", \"email@111.222.333.44444\",\n",
        "    \"email@example..com\", \"mailto:email@example..com\"\n",
        "]\n",
        "\n",
        "results = {email: ValidateEmail(email) for email in test_emails}\n",
        "results"
      ]
    },
    {
      "cell_type": "code",
      "source": [
        "# Test the function with user input\n",
        "test_emails = input(\"Enter comma-separated email addresses (if multiple email addresses): \").split(\",\")\n",
        "\n",
        "results = {email: ValidateEmail(email) for email in test_emails}\n",
        "results"
      ],
      "metadata": {
        "colab": {
          "base_uri": "https://localhost:8080/"
        },
        "id": "XS5uWAxOl9AA",
        "outputId": "b3c002e5-764c-4297-eb53-be2361ebced2"
      },
      "execution_count": 3,
      "outputs": [
        {
          "name": "stdout",
          "output_type": "stream",
          "text": [
            "Enter comma-separated email addresses (if multiple email addresses): siki12!@#$$@gmail.com\n"
          ]
        },
        {
          "output_type": "execute_result",
          "data": {
            "text/plain": [
              "{'siki12!@#$$@gmail.com': False}"
            ]
          },
          "metadata": {},
          "execution_count": 3
        }
      ]
    }
  ]
}